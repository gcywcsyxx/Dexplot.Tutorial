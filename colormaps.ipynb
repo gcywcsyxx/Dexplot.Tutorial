{
 "cells": [
  {
   "cell_type": "code",
   "execution_count": null,
   "metadata": {},
   "outputs": [],
   "source": [
    "import plotly"
   ]
  },
  {
   "cell_type": "code",
   "execution_count": null,
   "metadata": {},
   "outputs": [],
   "source": [
    "p_sequential = [k.lower() for k, v in vars(plotly.colors.sequential).items() if isinstance(v, list) \n",
    "                and not k.startswith('_')]\n",
    "p_diverging = [k.lower() for k, v in vars(plotly.colors.diverging).items() if isinstance(v, list) \n",
    "               and not k.startswith('_')]\n",
    "p_cyclic = [k.lower() for k, v in vars(plotly.colors.cyclical).items() if isinstance(v, list) \n",
    "            and not k.startswith('_')]\n",
    "p_qual = [k.lower() for k, v in vars(plotly.colors.qualitative).items() if isinstance(v, list) \n",
    "          and not k.startswith('_')]\n",
    "p_qual += ['dark12', 'dark12_r']"
   ]
  },
  {
   "cell_type": "code",
   "execution_count": null,
   "metadata": {},
   "outputs": [],
   "source": [
    "mpl_sequential = ['viridis', 'plasma', 'inferno', 'magma', 'cividis',\n",
    "            'Greys', 'Purples', 'Blues', 'Greens', 'Oranges', 'Reds',\n",
    "            'YlOrBr', 'YlOrRd', 'OrRd', 'PuRd', 'RdPu', 'BuPu',\n",
    "            'GnBu', 'PuBu', 'YlGnBu', 'PuBuGn', 'BuGn', 'YlGn',\n",
    "            'binary', 'gist_yarg', 'gist_gray', 'gray', 'bone', 'pink',\n",
    "            'spring', 'summer', 'autumn', 'winter', 'cool', 'Wistia',\n",
    "            'hot', 'afmhot', 'gist_heat', 'copper'] \n",
    "mpl_diverging =  ['PiYG', 'PRGn', 'BrBG', 'PuOr', 'RdGy', 'RdBu',\n",
    "            'RdYlBu', 'RdYlGn', 'Spectral', 'coolwarm', 'bwr', 'seismic']\n",
    "mpl_cyclic = ['twilight', 'twilight_shifted', 'hsv']\n",
    "mpl_qual = ['Pastel1', 'Pastel2', 'Paired', 'Accent', 'Dark2', 'Set1', 'Set2', 'Set3',\n",
    "            'tab10', 'tab20', 'tab20b', 'tab20c']\n",
    "mpl_misc = ['flag', 'prism', 'ocean', 'gist_earth', 'terrain', 'gist_stern',\n",
    "            'gnuplot', 'gnuplot2', 'CMRmap', 'cubehelix', 'brg',\n",
    "            'gist_rainbow', 'rainbow', 'jet', 'nipy_spectral', 'gist_ncar']\n",
    "\n",
    "def double(colors):\n",
    "    a = []\n",
    "    for color in colors:\n",
    "        c = color.lower()\n",
    "        a.append(c)\n",
    "        a.append(c + '_r')\n",
    "    return a\n",
    "        \n",
    "mpl_sequential = double(mpl_sequential)\n",
    "mpl_diverging = double(mpl_diverging)\n",
    "mpl_cyclic = double(mpl_cyclic)\n",
    "mpl_qual = double(mpl_qual)\n",
    "mpl_misc = double(mpl_misc)\n",
    "\n",
    "seq = sorted(set(mpl_sequential + p_sequential))\n",
    "diverging = sorted(set(mpl_diverging + p_diverging))\n",
    "cyclic = sorted(set(mpl_cyclic + p_cyclic))\n",
    "qual = sorted(set(mpl_qual + p_qual))\n",
    "misc = sorted(set(mpl_misc))"
   ]
  },
  {
   "cell_type": "code",
   "execution_count": null,
   "metadata": {},
   "outputs": [],
   "source": []
  }
 ],
 "metadata": {
  "kernelspec": {
   "display_name": "Python 3",
   "language": "python",
   "name": "python3"
  },
  "language_info": {
   "codemirror_mode": {
    "name": "ipython",
    "version": 3
   },
   "file_extension": ".py",
   "mimetype": "text/x-python",
   "name": "python",
   "nbconvert_exporter": "python",
   "pygments_lexer": "ipython3",
   "version": "3.8.3"
  }
 },
 "nbformat": 4,
 "nbformat_minor": 4
}
